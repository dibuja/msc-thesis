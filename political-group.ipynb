{
 "cells": [
  {
   "attachments": {},
   "cell_type": "markdown",
   "metadata": {},
   "source": [
    "Notebook to add the feature 'political_group' to the data."
   ]
  },
  {
   "cell_type": "code",
   "execution_count": 1,
   "metadata": {},
   "outputs": [],
   "source": [
    "import pandas as pd\n",
    "import re"
   ]
  },
  {
   "cell_type": "code",
   "execution_count": 4,
   "metadata": {},
   "outputs": [
    {
     "data": {
      "text/html": [
       "<div>\n",
       "<style scoped>\n",
       "    .dataframe tbody tr th:only-of-type {\n",
       "        vertical-align: middle;\n",
       "    }\n",
       "\n",
       "    .dataframe tbody tr th {\n",
       "        vertical-align: top;\n",
       "    }\n",
       "\n",
       "    .dataframe thead th {\n",
       "        text-align: right;\n",
       "    }\n",
       "</style>\n",
       "<table border=\"1\" class=\"dataframe\">\n",
       "  <thead>\n",
       "    <tr style=\"text-align: right;\">\n",
       "      <th></th>\n",
       "      <th>legislatura</th>\n",
       "      <th>fecha</th>\n",
       "      <th>objeto_iniciativa</th>\n",
       "      <th>numero_expediente</th>\n",
       "      <th>autores</th>\n",
       "      <th>nombre_sesion</th>\n",
       "      <th>orador</th>\n",
       "      <th>enlace_pdf</th>\n",
       "      <th>political_group</th>\n",
       "    </tr>\n",
       "  </thead>\n",
       "  <tbody>\n",
       "    <tr>\n",
       "      <th>0</th>\n",
       "      <td>1</td>\n",
       "      <td>1979-03-23</td>\n",
       "      <td>Real Decreto de convocatoria de la Junta Prepa...</td>\n",
       "      <td>050/000002/0000</td>\n",
       "      <td>Pleno del Congreso de los Diputados.</td>\n",
       "      <td>Pleno</td>\n",
       "      <td>Rubio Llorente, Federico</td>\n",
       "      <td>https://www.congreso.es:443/public_oficiales/L...</td>\n",
       "      <td></td>\n",
       "    </tr>\n",
       "    <tr>\n",
       "      <th>1</th>\n",
       "      <td>1</td>\n",
       "      <td>1979-03-23</td>\n",
       "      <td>Designación de la Mesa Interina del Congreso d...</td>\n",
       "      <td>020/000001/0000</td>\n",
       "      <td>Presidente del Congreso de los Diputados.</td>\n",
       "      <td>Pleno</td>\n",
       "      <td>Peces-Barba Martínez, Gregorio (GS)</td>\n",
       "      <td>https://www.congreso.es:443/public_oficiales/L...</td>\n",
       "      <td>GS</td>\n",
       "    </tr>\n",
       "    <tr>\n",
       "      <th>2</th>\n",
       "      <td>1</td>\n",
       "      <td>1979-03-23</td>\n",
       "      <td>Designación de la Mesa Interina del Congreso d...</td>\n",
       "      <td>020/000001/0000</td>\n",
       "      <td>Presidente del Congreso de los Diputados.</td>\n",
       "      <td>Pleno</td>\n",
       "      <td>Lavilla Alsina, Landelino (GC)</td>\n",
       "      <td>https://www.congreso.es:443/public_oficiales/L...</td>\n",
       "      <td>GC</td>\n",
       "    </tr>\n",
       "  </tbody>\n",
       "</table>\n",
       "</div>"
      ],
      "text/plain": [
       "   legislatura       fecha                                  objeto_iniciativa  \\\n",
       "0            1  1979-03-23  Real Decreto de convocatoria de la Junta Prepa...   \n",
       "1            1  1979-03-23  Designación de la Mesa Interina del Congreso d...   \n",
       "2            1  1979-03-23  Designación de la Mesa Interina del Congreso d...   \n",
       "\n",
       "  numero_expediente                                    autores nombre_sesion  \\\n",
       "0   050/000002/0000       Pleno del Congreso de los Diputados.         Pleno   \n",
       "1   020/000001/0000  Presidente del Congreso de los Diputados.         Pleno   \n",
       "2   020/000001/0000  Presidente del Congreso de los Diputados.         Pleno   \n",
       "\n",
       "                                orador  \\\n",
       "0             Rubio Llorente, Federico   \n",
       "1  Peces-Barba Martínez, Gregorio (GS)   \n",
       "2       Lavilla Alsina, Landelino (GC)   \n",
       "\n",
       "                                          enlace_pdf political_group  \n",
       "0  https://www.congreso.es:443/public_oficiales/L...                  \n",
       "1  https://www.congreso.es:443/public_oficiales/L...              GS  \n",
       "2  https://www.congreso.es:443/public_oficiales/L...              GC  "
      ]
     },
     "execution_count": 4,
     "metadata": {},
     "output_type": "execute_result"
    }
   ],
   "source": [
    "data = pd.read_csv('data/interventions/all-interventions-clean.csv')\n",
    "\n",
    "political_group = data['orador'].str.split(r' \\(', 1)\n",
    "\n",
    "# Filling the cases where there is no political group.\n",
    "for i in range(len(political_group)):\n",
    "    try: political_group[i][1]\n",
    "    except: political_group[i].append('')\n",
    "\n",
    "# Clean the list to only include the political group, e.g. GP, GCUP-EC-GC, GS.\n",
    "political_group = [political_group[i][1][:-1] for i in range(len(political_group))]\n",
    "\n",
    "# Add the column in the DF.\n",
    "data['political_group'] = political_group\n",
    "\n",
    "data.head(3)"
   ]
  },
  {
   "cell_type": "code",
   "execution_count": 5,
   "metadata": {},
   "outputs": [],
   "source": [
    "# Saving the data in the same location.\n",
    "data.to_csv('data/interventions/all-interventions-clean.csv', index=False)"
   ]
  }
 ],
 "metadata": {
  "kernelspec": {
   "display_name": "aba",
   "language": "python",
   "name": "python3"
  },
  "language_info": {
   "codemirror_mode": {
    "name": "ipython",
    "version": 3
   },
   "file_extension": ".py",
   "mimetype": "text/x-python",
   "name": "python",
   "nbconvert_exporter": "python",
   "pygments_lexer": "ipython3",
   "version": "3.8.13"
  },
  "orig_nbformat": 4,
  "vscode": {
   "interpreter": {
    "hash": "7d5936845f3ebb1b8d781f4d1c64232f5e580c1c1d69bfd2287ad8814f75b67c"
   }
  }
 },
 "nbformat": 4,
 "nbformat_minor": 2
}
